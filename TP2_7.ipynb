{
 "cells": [
  {
   "cell_type": "markdown",
   "metadata": {},
   "source": [
    "# PDS - TP2 Punto 7\n",
    "### Blasi - Reyes - Sosa Lüchter"
   ]
  },
  {
   "cell_type": "markdown",
   "metadata": {},
   "source": [
    "Imports"
   ]
  },
  {
   "cell_type": "code",
   "execution_count": null,
   "metadata": {},
   "outputs": [],
   "source": [
    "import numpy as np\n",
    "from scipy.signal import stft\n",
    "import plotly.graph_objects as go\n",
    "from plotly.subplots import make_subplots"
   ]
  },
  {
   "cell_type": "markdown",
   "metadata": {},
   "source": [
    "Definir señal $x[n]$."
   ]
  },
  {
   "cell_type": "code",
   "execution_count": null,
   "metadata": {},
   "outputs": [],
   "source": [
    "# Variable independiente 'n'\n",
    "N = 1  # Duración [s]\n",
    "fs = 44.1 * 10 ** 3  # Sample rate\n",
    "n = np.arange(0, N, 1 / fs)\n",
    "\n",
    "# Señal x1[n]\n",
    "x1 = np.array([2 for i in n])\n",
    "\n",
    "# Señal x2[n]\n",
    "f2 = 10 * 10 ** 3\n",
    "u2 = 0.2\n",
    "sigma2 = 0.05\n",
    "w2 = 2 * np.pi * f2\n",
    "sub_arg = -((n - u2) ** 2) / (2 * sigma2 ** 2)\n",
    "x2 = np.cos(w2 * n) * np.e ** sub_arg\n",
    "\n",
    "# Señal x3[n]\n",
    "f3 = 10.1 * 10 ** 3\n",
    "u3 = 0.7\n",
    "sigma3 = 0.07\n",
    "w3 = 2 * np.pi * f3\n",
    "sub_arg = -((n - u3) ** 2) / (2 * sigma3 ** 2)\n",
    "x3 = np.sin(w3 * n) * np.e ** sub_arg\n",
    "\n",
    "# Señal x[n]\n",
    "x = x1 + x2 + x3"
   ]
  },
  {
   "cell_type": "markdown",
   "metadata": {},
   "source": [
    "A continuación se calcula la STFT de la señal $x[n]$ variando los siguientes parámetros:\n",
    "<br>\n",
    "* tipos de ventana: Boxcar, Hann, Bartlett\n",
    "<br>\n",
    "* largo de ventana: 10, 100, 1000\n",
    "\n",
    "Se grafican, agrupados por tipo de ventana, las magnitudes en dB de las STFT resultantes. Luego, se decide que combinación de parámetros mejor representa a la señal y se vuelve a graficar la magnitud, esta vez junto a la fase."
   ]
  },
  {
   "cell_type": "code",
   "execution_count": null,
   "metadata": {},
   "outputs": [],
   "source": [
    "m_list = [10, 50, 100]\n",
    "w_list = ['boxcar', 'hann', 'bartlett']\n",
    "stft_list = []\n",
    "title_list = []\n",
    "for w in w_list:\n",
    "    for m in m_list:\n",
    "        f, t, Zxx = stft(x, fs, w, m)\n",
    "        s = 'STFT Magnitud, ventana ' + w.capitalize()\n",
    "        stft_list.append([f, t, Zxx])\n",
    "        title_list.append(s)"
   ]
  },
  {
   "cell_type": "code",
   "execution_count": null,
   "metadata": {},
   "outputs": [],
   "source": [
    "def spookygram(stft_list, n):\n",
    "    \"\"\"\n",
    "    Grafica |STFT| para un tipo de ventana y 3 largos de ventana diferentes.\n",
    "    La lista 'stft_list' contiene 9 STFTs en orden por tipo de ventana.\n",
    "    La variable 'n' es simplemente para tomar 3 elementos desde la n-esima posición.\n",
    "    La función es boba pero útil para no tener que reescribir el proceso de graficar.\n",
    "    \"\"\"\n",
    "    fig = make_subplots(rows=3, cols=1, subplot_titles=('M=10', 'M=50', 'M=100'))\n",
    "    j = 1\n",
    "    for i in range(n, n+3):\n",
    "        f = stft_list[i][0]\n",
    "        t = stft_list[i][1]\n",
    "        Zxx = stft_list[i][2]\n",
    "        Zxx = 10*np.log10(abs(Zxx))\n",
    "        if j == 1:\n",
    "            fig.add_trace(go.Heatmap(x=t, y=f, z=Zxx, name='|STFT|', showscale=True), row=j, col=1)\n",
    "        else:\n",
    "            fig.add_trace(go.Heatmap(x=t, y=f, z=Zxx, name='|STFT|', showscale=False), row=j, col=1)\n",
    "        j += 1\n",
    "    fig.update_yaxes(title_text='Frecuencia [Hz]')\n",
    "    fig.update_xaxes(title_text='Tiempo [s]', row=3, col=1)\n",
    "    fig.update_layout(title=title_list[i], showlegend=False)\n",
    "    fig.show()\n",
    "    "
   ]
  },
  {
   "cell_type": "markdown",
   "metadata": {},
   "source": [
    "Ventana Boxcar:"
   ]
  },
  {
   "cell_type": "code",
   "execution_count": null,
   "metadata": {},
   "outputs": [],
   "source": [
    "spookygram(stft_list, 0)"
   ]
  },
  {
   "cell_type": "markdown",
   "metadata": {},
   "source": [
    "Ventana Hann:"
   ]
  },
  {
   "cell_type": "code",
   "execution_count": null,
   "metadata": {},
   "outputs": [],
   "source": [
    "spookygram(stft_list, 3)"
   ]
  },
  {
   "cell_type": "markdown",
   "metadata": {},
   "source": [
    "Ventana Bartlett:"
   ]
  },
  {
   "cell_type": "code",
   "execution_count": null,
   "metadata": {},
   "outputs": [],
   "source": [
    "spookygram(stft_list, 6)"
   ]
  },
  {
   "cell_type": "markdown",
   "metadata": {},
   "source": [
    "Parece ser que una ventana \"suave\" (ventana Hann) en combinación con un largo de ventana que ofrezca suficiente resolución en frecuencia (M=50) resulta en el espectrograma más claro para la señal siendo analizada. En el caso de que se quisiera tomar un M pequeño (M=10), tanto la ventana Hann como la Bartlett tuvieron un rendimiento pobre, por lo menos visualmente, y seria mejor utilizar una simple ventana rectangular. La ventana Bartlett parece no haber presentado ninguna ventaja en este caso, siendo la que más agregó componentes no deseados al resultado."
   ]
  },
  {
   "cell_type": "markdown",
   "metadata": {},
   "source": [
    "Se grafica tanto la magnitud como la fase de la STFT con ventana Hann y M=50."
   ]
  },
  {
   "cell_type": "code",
   "execution_count": null,
   "metadata": {},
   "outputs": [],
   "source": [
    "fig = make_subplots(rows=2, cols=1, subplot_titles=('Magnitud', 'Fase'))\n",
    "# El elemento 4 corresponde a w=Hann, M=50\n",
    "f = stft_list[4][0]\n",
    "t = stft_list[4][1]\n",
    "Zxx = stft_list[4][2]\n",
    "Zxx_dB = 10*np.log10(abs(Zxx))\n",
    "fig.add_trace(go.Heatmap(x=t, y=f, z=Zxx_dB, name='|STFT|', showscale=True), row=1, col=1)\n",
    "fig.add_trace(go.Heatmap(x=t, y=f, z=np.angle(Zxx), name='∠STFT', showscale=False), row=2, col=1)\n",
    "fig.update_yaxes(title_text='Frecuencia [Hz]', row=1, col=1)\n",
    "fig.update_yaxes(title_text='Frecuencia [Hz]', row=2, col=1)\n",
    "fig.update_xaxes(title_text='Tiempo [s]', row=2, col=1)\n",
    "fig.update_layout(title='STFT, ventana Hann, M=50', showlegend=False)\n",
    "fig.show()\n"
   ]
  }
 ],
 "metadata": {
  "kernelspec": {
   "display_name": "Python 3",
   "language": "python",
   "name": "python3"
  },
  "language_info": {
   "codemirror_mode": {
    "name": "ipython",
    "version": 3
   },
   "file_extension": ".py",
   "mimetype": "text/x-python",
   "name": "python",
   "nbconvert_exporter": "python",
   "pygments_lexer": "ipython3",
   "version": "3.7.3"
  }
 },
 "nbformat": 4,
 "nbformat_minor": 4
}
