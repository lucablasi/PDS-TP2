{
 "cells": [
  {
   "cell_type": "markdown",
   "metadata": {},
   "source": [
    "# PDS - TP2 Punto 3\n",
    "### Blasi - Reyes - Sosa Lüchter"
   ]
  },
  {
   "cell_type": "markdown",
   "metadata": {},
   "source": [
    "Imports"
   ]
  },
  {
   "cell_type": "code",
   "execution_count": null,
   "metadata": {},
   "outputs": [],
   "source": [
    "import numpy as np\n",
    "from numpy.fft import fft\n",
    "import plotly.graph_objects as go"
   ]
  },
  {
   "cell_type": "markdown",
   "metadata": {},
   "source": [
    "Definimos la señal $x_{3}[n]$, con una frecuencia de 10008.37 Hz. Calculamos su transformada de Fourier $X_{3}[k]$."
   ]
  },
  {
   "cell_type": "code",
   "execution_count": null,
   "metadata": {},
   "outputs": [],
   "source": [
    "# Variable independiente 'n'\n",
    "N = 1  # Duración [s]\n",
    "fs = 44.1 * 10 ** 3  # Sample rate\n",
    "n = np.arange(0, N, 1 / fs)\n",
    "\n",
    "# Señal x3[n]\n",
    "f3 = 10008.37\n",
    "u3 = 0.7\n",
    "sigma3 = 0.07\n",
    "w3 = 2 * np.pi * f3\n",
    "sub_arg = -((n - u3) ** 2) / (2 * sigma3 ** 2)\n",
    "x3 = np.sin(w3 * n) * np.e ** sub_arg\n",
    "\n",
    "X3 = fft(x3)\n",
    "X3 = X3[0:int(len(X3)/2)]\n",
    "X3dB = 20*np.log10(abs(X3)/max(abs(X3)))"
   ]
  },
  {
   "cell_type": "markdown",
   "metadata": {},
   "source": [
    "Graficamos la señal $x_{3}[n]$ y la magnitud de la transformada $X_{3}[k]$."
   ]
  },
  {
   "cell_type": "code",
   "execution_count": null,
   "metadata": {},
   "outputs": [],
   "source": [
    "fig1 = go.Figure()\n",
    "fig1.add_trace(go.Scatter(x=n, y=x3, name='x3[n]'))\n",
    "fig1.update_layout(\n",
    "    title='Señal x3[n]',\n",
    "    xaxis_title='Tiempo [s]',\n",
    "    yaxis_title='Amplitud')\n",
    "fig1.show()\n",
    "\n",
    "fig2 = go.Figure()\n",
    "fig2.add_trace(go.Scatter(y=X3dB, name='|X[k]|'))\n",
    "fig2.update_layout(\n",
    "    title='Magnitud X3[k]',\n",
    "    xaxis_title='Frecuencia [Hz]',\n",
    "    yaxis_title='|X[k]| [dB]')\n",
    "fig2.show()"
   ]
  },
  {
   "cell_type": "markdown",
   "metadata": {},
   "source": [
    "El máximo de la magnitud ocurre en:"
   ]
  },
  {
   "cell_type": "code",
   "execution_count": null,
   "metadata": {},
   "outputs": [],
   "source": [
    "f0 = np.argmax(X3dB)\n",
    "print('frecuencia de magnitud máxima: f=' + str(f0), 'Hz')"
   ]
  },
  {
   "cell_type": "markdown",
   "metadata": {},
   "source": [
    "Esta frecuencia no es igual a la frecuencia que se utilizó al generar la señal. La transformada no tiene precisión suficiente como para discriminar la frecuencia en la que ocurre el verdadero máximo. Se utiliza la técnica de interpolación cuadrática para mejorar la precisión."
   ]
  },
  {
   "cell_type": "code",
   "execution_count": null,
   "metadata": {},
   "outputs": [],
   "source": [
    "y0 = X3dB[f0]\n",
    "ym1 = X3dB[f0-1]\n",
    "yp1 = X3dB[f0+1]\n",
    "\n",
    "p = (yp1 - ym1)/(2*(2*y0 - yp1 - ym1))\n",
    "fc = f0 + p\n",
    "\n",
    "print('fc =',round(fc, 3))"
   ]
  },
  {
   "cell_type": "markdown",
   "metadata": {},
   "source": [
    "La frecuencia fc coincide con gran precisión con la frecuencia que se utilizó para generar la señal."
   ]
  }
 ],
 "metadata": {
  "kernelspec": {
   "display_name": "Python 3",
   "language": "python",
   "name": "python3"
  },
  "language_info": {
   "codemirror_mode": {
    "name": "ipython",
    "version": 3
   },
   "file_extension": ".py",
   "mimetype": "text/x-python",
   "name": "python",
   "nbconvert_exporter": "python",
   "pygments_lexer": "ipython3",
   "version": "3.7.3"
  }
 },
 "nbformat": 4,
 "nbformat_minor": 4
}
