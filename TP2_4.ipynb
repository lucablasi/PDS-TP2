{
 "cells": [
  {
   "cell_type": "markdown",
   "metadata": {},
   "source": [
    "# PDS - TP2 Punto 4\n",
    "### Blasi - Reyes - Sosa Lüchter"
   ]
  },
  {
   "cell_type": "markdown",
   "metadata": {},
   "source": [
    "Imports"
   ]
  },
  {
   "cell_type": "code",
   "execution_count": null,
   "metadata": {},
   "outputs": [],
   "source": [
    "import numpy as np\n",
    "import matplotlib.pyplot as plt"
   ]
  },
  {
   "cell_type": "markdown",
   "metadata": {},
   "source": [
    "Definir señal $x[n]$."
   ]
  },
  {
   "cell_type": "code",
   "execution_count": null,
   "metadata": {},
   "outputs": [],
   "source": [
    "# Generar señales\n",
    "# ------------------------------------------------ #\n",
    "# Definición variable independiente 't'\n",
    "T = 1               # Duración [s]\n",
    "fs = 44.1*10**3     # Sample rate\n",
    "t = np.arange(0, T, 1/fs)\n",
    "\n",
    "# Definición señal x1(t)\n",
    "x1 = np.array([2 for i in t])\n",
    "\n",
    "# Definición señal x2(t)\n",
    "f2 = 10*10**3\n",
    "u2 = 0.2\n",
    "sigma2 = 0.05\n",
    "w2 = 2 * np.pi * f2\n",
    "sub_arg = -((t - u2)**2)/(2 * sigma2**2)\n",
    "x2 = np.cos(w2 * t) * np.e ** sub_arg\n",
    "\n",
    "# Definición señal x3(t)\n",
    "f3 = 10.1*10**3\n",
    "u3 = 0.7\n",
    "sigma3 = 0.07\n",
    "w3 = 2 * np.pi * f3\n",
    "sub_arg = -((t - u3)**2)/(2 * sigma3**2)\n",
    "x3 = np.sin(w3 * t) * np.e ** sub_arg\n",
    "\n",
    "# Definición señal x(t)\n",
    "x =  x1 +  x2 + x3"
   ]
  },
  {
   "cell_type": "markdown",
   "metadata": {},
   "source": [
    "Cálculos."
   ]
  },
  {
   "cell_type": "code",
   "execution_count": null,
   "metadata": {},
   "outputs": [],
   "source": [
    "M     = 2\n",
    "h     = (1/M)*np.ones(M)\n",
    "zeros = np.zeros(len(x)-M)\n",
    "h     = np.concatenate((h,zeros))\n",
    "N     = len(x) + len(h) - 1\n",
    "zeros = np.zeros(N-len(x))\n",
    "x     = np.concatenate((x, zeros))\n",
    "h     = np.concatenate((h, zeros))\n",
    "\n",
    "X = np.fft.fft(x)\n",
    "H = np.fft.fft(h)\n",
    "XH = X*H\n",
    "f = np.fft.fftfreq(len(x), d = 1/fs) # vector frecuencia\n",
    "f  = np.fft.fftshift(f)\n",
    "H  = np.fft.fftshift(H)\n",
    "X  = np.fft.fftshift(X)\n",
    "XH = np.fft.fftshift(XH)\n",
    "\n",
    "XH_dB = 20*np.log10(np.abs(XH))\n",
    "X_dB  = 20*np.log10(np.abs(X))\n",
    "\n"
   ]
  },
  {
   "cell_type": "markdown",
   "metadata": {},
   "source": [
    "Graficar."
   ]
  },
  {
   "cell_type": "code",
   "execution_count": null,
   "metadata": {},
   "outputs": [],
   "source": [
    "plt.figure(figsize=(10,7))\n",
    "plt.subplot(311)\n",
    "plt.title('Respuesta en frecuencia filtro media móvil')\n",
    "plt.xlabel('frecuencia [Hz]')\n",
    "plt.ylabel('Amplitud')\n",
    "plt.plot(f,np.abs(H))\n",
    "######################\n",
    "plt.subplot(312)\n",
    "plt.title('Señal original ')\n",
    "plt.xlabel('frecuencia [Hz]')\n",
    "plt.ylabel('Amplitud [dB]')\n",
    "plt.plot(f,X_dB)\n",
    "plt.xlim(9980,10120)\n",
    "plt.ylim(0,75)\n",
    "plt.grid()\n",
    "######################\n",
    "plt.subplot(313)\n",
    "plt.title('Señal filtrada')\n",
    "plt.xlabel('frecuencia [Hz]')\n",
    "plt.ylabel('Amplitud [dB]')\n",
    "plt.plot(f,XH_dB)\n",
    "plt.xlim(9980,10120)\n",
    "plt.ylim(0,75)\n",
    "plt.grid()\n",
    "plt.subplots_adjust(hspace = 0.8) \n",
    "plt.show()"
   ]
  },
  {
   "cell_type": "markdown",
   "metadata": {},
   "source": [
    "Caida en dB para la frecuencia de 10 kHz."
   ]
  },
  {
   "cell_type": "code",
   "execution_count": null,
   "metadata": {},
   "outputs": [],
   "source": [
    "print('X_dB[10000] = ', np.round(X_dB[64099],2), 'dB')\n",
    "print('XH_dB[10000] = ', np.round(XH_dB[64099],2), 'dB')\n",
    "print('Caída en 10 kHz =  ', np.round(X_dB[64099]-XH_dB[64099],2), 'dB')"
   ]
  },
  {
   "cell_type": "markdown",
   "metadata": {},
   "source": [
    "\n",
    "\n",
    "Para obtener el valor de M  pasamos a dB la magnitud de la respuesta en frecuencia del filtro de media movil y lo igualamos a -3dB\n",
    "\n",
    "$$\\begin{equation}\n",
    "|H(e^{jw})| = 20 \\cdot Log (|\\frac{1}{M} \\frac{Sen(wM/2)}{Sen(w/2)}|)= -3dB\n",
    "\\end{equation}$$ \n",
    "\n",
    "Se calcula el valor de w para 10kHz\n",
    "\n",
    "$$\\begin{equation}\n",
    "w = \\frac{2\\pi}{N}k_{0} = \\frac{2\\pi}{44100}10000 = 2\\pi \\frac{100}{441}\n",
    "\\end{equation}$$ \n",
    "\n",
    "$$\\begin{equation}\n",
    "|H(e^{jw})| = 20 \\cdot Log (|\\frac{Sen(wM/2)}{M}|) = -3dB + 20 \\cdot Log (|Sen(wM/2)|) \\approx -5,95 dB\n",
    "\\end{equation}$$ \n",
    "\n",
    "$$\\begin{equation}\n",
    "\\frac{|Sen(wM/2)|}{M} = 10^{\\frac{-5,95}{20}} \\approx 0,5\n",
    "\\end{equation}$$ \n",
    "\n",
    "\n",
    "Dado que M es un número natural y $|Sen(wM/2)|$ se encuentra acotado entre 0 y 1 se elige el valor de M = 2 para que se cumpla la relación.\n",
    "\n",
    "$$\\begin{equation}\n",
    "\\frac{|Sen(2\\pi \\frac{100}{441})|}{2}  \\approx 0,49\n",
    "\\end{equation}$$ \n",
    "\n",
    "Para valores de M mayores a 2 la señal filtrada se atenúa más de 3dB\n",
    "\n"
   ]
  }
 ],
 "metadata": {
  "kernelspec": {
   "display_name": "Python 3",
   "language": "python",
   "name": "python3"
  },
  "language_info": {
   "codemirror_mode": {
    "name": "ipython",
    "version": 3
   },
   "file_extension": ".py",
   "mimetype": "text/x-python",
   "name": "python",
   "nbconvert_exporter": "python",
   "pygments_lexer": "ipython3",
   "version": "3.7.3"
  }
 },
 "nbformat": 4,
 "nbformat_minor": 4
}
