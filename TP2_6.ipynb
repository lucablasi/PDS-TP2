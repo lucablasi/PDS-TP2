{
 "cells": [
  {
   "cell_type": "markdown",
   "metadata": {},
   "source": [
    "# PDS - TP2 Punto 6\n",
    "### Blasi - Reyes - Sosa Lüchter"
   ]
  },
  {
   "cell_type": "markdown",
   "metadata": {},
   "source": [
    "Imports"
   ]
  },
  {
   "cell_type": "code",
   "execution_count": null,
   "metadata": {},
   "outputs": [],
   "source": [
    "import numpy as np\n",
    "import math\n",
    "from numpy.fft import fft\n",
    "from numpy.fft import ifft\n",
    "import plotly.graph_objects as go\n",
    "from plotly.subplots import make_subplots"
   ]
  },
  {
   "cell_type": "markdown",
   "metadata": {},
   "source": [
    "Definir señal $x_{2}[n]$."
   ]
  },
  {
   "cell_type": "code",
   "execution_count": null,
   "metadata": {},
   "outputs": [],
   "source": [
    "# Variable independiente 'n'\n",
    "L = 1  # Duración [s]\n",
    "fs = 44.1 * 10 ** 3  # Sample rate\n",
    "n = np.arange(0, L, 1 / fs)\n",
    "N = len(n)\n",
    "\n",
    "\n",
    "# Señal x2[n]\n",
    "f2 = 10 * 10 ** 3\n",
    "u2 = 0.2\n",
    "sigma2 = 0.05\n",
    "w2 = 2 * np.pi * f2\n",
    "sub_arg = -((n - u2) ** 2) / (2 * sigma2 ** 2)\n",
    "x2 = np.cos(w2 * n) * np.e ** sub_arg"
   ]
  },
  {
   "cell_type": "markdown",
   "metadata": {},
   "source": [
    "Se busca comparar la precisión de dos métodos numéricos para resolver ecuaciónes diferenciales, método de diferencias finitas y método de diferenciación en frecuencia. En primer lugar se define la derivada analítica de la señal $x_{2}[n]$. Luego, se calcula la derivada según los métodos numéricos y se comparan los resultados."
   ]
  },
  {
   "cell_type": "markdown",
   "metadata": {},
   "source": [
    "Derivada analítica."
   ]
  },
  {
   "cell_type": "code",
   "execution_count": null,
   "metadata": {},
   "outputs": [],
   "source": [
    "x2p = -w2 * np.sin(w2*n) * np.e**sub_arg - (2*(n-u2)*np.cos(w2*n)*np.e**sub_arg)/(2*sigma2**2)"
   ]
  },
  {
   "cell_type": "markdown",
   "metadata": {},
   "source": [
    "Derivada por método de diferencias finitas."
   ]
  },
  {
   "cell_type": "code",
   "execution_count": null,
   "metadata": {},
   "outputs": [],
   "source": [
    "# Algoritmo según:\n",
    "# Steven Brunton & Nathan Kutz - Data-Driven Science and Engineering Machine Learning, Dynamical Systems, and Control\n",
    "# - Cambridge UP -2019\n",
    "\n",
    "dx = 1/fs\n",
    "x2p_dif = np.zeros(N)\n",
    "for i in range(N-1):\n",
    "    x2p_dif[i] = (x2[i+1]-x2[i])/dx\n",
    "x2p_dif[-1] = x2p_dif[-2]"
   ]
  },
  {
   "cell_type": "markdown",
   "metadata": {},
   "source": [
    "Derivada por método de diferenciación en frecuencia."
   ]
  },
  {
   "cell_type": "code",
   "execution_count": null,
   "metadata": {},
   "outputs": [],
   "source": [
    "# Algoritmo según:\n",
    "# Steven G. Johnson - Notes on FFT-based differentiation - MIT Applied Mathematics\n",
    "\n",
    "# Paso 1\n",
    "X2 = fft(x2)\n",
    "X2 = X2[:N]\n",
    "k = np.arange(0, N)\n",
    "\n",
    "# Paso 2\n",
    "if ((N/2) % 2) == 0:\n",
    "    X2a = X2[:int(N/2)] * k[:int(N/2)] * 2j*np.pi/L\n",
    "    X2b = [0]\n",
    "    X2c = X2[int(N/2)+1:] * (k[int(N/2)+1:]-N) * 2j*np.pi/L\n",
    "    X2p_fourier = np.concatenate((X2a, X2b, X2c))\n",
    "else:\n",
    "    X2a = X2[:math.ceil(N/2)] * k[:math.ceil(N/2)] * 2j*np.pi/L\n",
    "    X2b = X2[math.ceil(N/2):] * (k[math.ceil(N/2):]-N) * 2j*np.pi/L\n",
    "    X2p_fourier = np.concatenate((X2a, X2b))\n",
    "\n",
    "# Paso 3\n",
    "x2p_fourier = np.real(ifft(X2p_fourier))"
   ]
  },
  {
   "cell_type": "markdown",
   "metadata": {},
   "source": [
    "Primero se grafican las señales completas sin acotar."
   ]
  },
  {
   "cell_type": "code",
   "execution_count": null,
   "metadata": {},
   "outputs": [],
   "source": [
    "fig = go.Figure()\n",
    "fig.add_trace(go.Scatter(x=n, y=x2p, name='Analítico'))\n",
    "fig.add_trace(go.Scatter(x=n, y=x2p_dif, name='Dif. finitas'))\n",
    "fig.add_trace(go.Scatter(x=n, y=x2p_fourier, name='Fourier'))\n",
    "fig.update_layout(\n",
    "    title=\"x2'[n] según metodo de diferenciación - vista completa\",\n",
    "    xaxis_title='Tiempo [s]',\n",
    "    yaxis_title='Amplitud')\n",
    "fig.show()"
   ]
  },
  {
   "cell_type": "markdown",
   "metadata": {},
   "source": [
    "Como se puede ver (se pueden activar/desactivar las señales individuales desde la leyenda), por lo menos a simple vista, la derivada resultante del método de diferenciación por frecuencia es igual a la derivada analítica, mientras que la derivada por el método de diferencias finitas difiere visiblemente."
   ]
  },
  {
   "cell_type": "markdown",
   "metadata": {},
   "source": [
    "Para apreciar las diferencias punto a punto entre los métodos se grafica también un intervalo acotado de las señales. Se puede ver nuevamente que el resultado del método de diferenciación en frecuencia es igual a la derivada analítica."
   ]
  },
  {
   "cell_type": "code",
   "execution_count": null,
   "metadata": {},
   "outputs": [],
   "source": [
    "a = int(0.2*fs)\n",
    "b = a + 30\n",
    "fig = go.Figure()\n",
    "fig.add_trace(go.Scatter(x=n[a:b], y=x2p[a:b], mode='lines+markers', name='Analítico'))\n",
    "fig.add_trace(go.Scatter(x=n[a:b], y=x2p_dif[a:b], mode='lines+markers', name='Dif. finitas'))\n",
    "fig.add_trace(go.Scatter(x=n[a:b], y=x2p_fourier[a:b], mode='lines+markers', name='Fourier'))\n",
    "fig.update_layout(\n",
    "    title=\"x2'[n] según metodo de diferenciación - vista cercana\",\n",
    "    xaxis_title='Tiempo [s]',\n",
    "    yaxis_title='Amplitud')\n",
    "fig.show()"
   ]
  },
  {
   "cell_type": "markdown",
   "metadata": {},
   "source": [
    "Nota: Entiendo que utilizar un gráfico tipo 'line' no es representativo de señales discretas. No encontré en la libreria Plotly un gráfico tipo 'stem', y graficar solamente los 'markers' o puntos individuales es visualmente confuso. Sin embargo utilizé Plotly por consistencia y por las ventajas que sigue brindando."
   ]
  },
  {
   "cell_type": "markdown",
   "metadata": {},
   "source": [
    "En caso de que se prefiera se grafican las señales individualmente."
   ]
  },
  {
   "cell_type": "code",
   "execution_count": null,
   "metadata": {},
   "outputs": [],
   "source": [
    "fig = make_subplots(rows=3, cols=1,\n",
    "    subplot_titles=('Analítico', 'Diferencias finitas', 'Diferenciación en frecuencia'))\n",
    "fig.add_trace(go.Scatter(x=n, y=x2p, name='Analítico'), row=1, col=1)\n",
    "fig.add_trace(go.Scatter(x=n, y=x2p_dif, name='Dif. finitas'), row=2, col=1)\n",
    "fig.add_trace(go.Scatter(x=n, y=x2p_fourier, name='Fourier'), row=3, col=1)\n",
    "fig.update_yaxes(title='Amplitud')\n",
    "fig.update_xaxes(title='Tiempo [s]', row=3)\n",
    "fig.update_layout(\n",
    "    title=\"x2'[n] según metodo de diferenciación\",\n",
    "    showlegend=False)\n",
    "fig.show()"
   ]
  }
 ],
 "metadata": {
  "kernelspec": {
   "display_name": "Python 3",
   "language": "python",
   "name": "python3"
  },
  "language_info": {
   "codemirror_mode": {
    "name": "ipython",
    "version": 3
   },
   "file_extension": ".py",
   "mimetype": "text/x-python",
   "name": "python",
   "nbconvert_exporter": "python",
   "pygments_lexer": "ipython3",
   "version": "3.7.3"
  }
 },
 "nbformat": 4,
 "nbformat_minor": 4
}
