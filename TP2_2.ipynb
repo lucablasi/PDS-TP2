{
 "cells": [
  {
   "cell_type": "markdown",
   "metadata": {},
   "source": [
    "# PDS - TP2 Punto 2\n",
    "### Blasi - Reyes - Sosa Lüchter"
   ]
  },
  {
   "cell_type": "markdown",
   "metadata": {},
   "source": [
    "Imports"
   ]
  },
  {
   "cell_type": "code",
   "execution_count": null,
   "metadata": {},
   "outputs": [],
   "source": [
    "import numpy as np\n",
    "from numpy.fft import fft\n",
    "import plotly.graph_objects as go\n",
    "from plotly.subplots import make_subplots"
   ]
  },
  {
   "cell_type": "markdown",
   "metadata": {},
   "source": [
    "Definir y graficar señal $x[n]$."
   ]
  },
  {
   "cell_type": "code",
   "execution_count": null,
   "metadata": {},
   "outputs": [],
   "source": [
    "# Variable independiente 'n'\n",
    "N = 1  # Duración [s]\n",
    "fs = 44.1 * 10 ** 3  # Sample rate\n",
    "n = np.arange(0, N, 1 / fs)\n",
    "\n",
    "# Señal x1[n]\n",
    "x1 = np.array([2 for i in n])\n",
    "\n",
    "# Señal x2[n]\n",
    "f2 = 10 * 10 ** 3\n",
    "u2 = 0.2\n",
    "sigma2 = 0.05\n",
    "w2 = 2 * np.pi * f2\n",
    "sub_arg = -((n - u2) ** 2) / (2 * sigma2 ** 2)\n",
    "x2 = np.cos(w2 * n) * np.e ** sub_arg\n",
    "\n",
    "# Señal x3[n]\n",
    "f3 = 10008.37\n",
    "u3 = 0.7\n",
    "sigma3 = 0.07\n",
    "w3 = 2 * np.pi * f3\n",
    "sub_arg = -((n - u3) ** 2) / (2 * sigma3 ** 2)\n",
    "x3 = np.sin(w3 * n) * np.e ** sub_arg\n",
    "\n",
    "# Ruido\n",
    "xr = np.random.normal(scale=1, size=len(n))\n",
    "\n",
    "# Señal x[n]\n",
    "x = x1 + x2 + x3 + xr"
   ]
  },
  {
   "cell_type": "code",
   "execution_count": null,
   "metadata": {},
   "outputs": [],
   "source": [
    "fig = go.Figure()\n",
    "fig.add_trace(go.Scatter(x=n, y=x))\n",
    "fig.update_layout(\n",
    "    title='Señal x[n]',\n",
    "    xaxis_title='Tiempo [s]',\n",
    "    yaxis_title='Amplitud'\n",
    ")\n",
    "fig.show()"
   ]
  },
  {
   "cell_type": "markdown",
   "metadata": {},
   "source": [
    "Definir y graficar ventanas."
   ]
  },
  {
   "cell_type": "code",
   "execution_count": null,
   "metadata": {},
   "outputs": [],
   "source": [
    "v_rec = np.ones(len(n))\n",
    "v_han = np.hanning(len(n))\n",
    "v_blk = np.blackman(len(n))"
   ]
  },
  {
   "cell_type": "code",
   "execution_count": null,
   "metadata": {},
   "outputs": [],
   "source": [
    "fig = make_subplots(\n",
    "    rows=3, cols=1,\n",
    "    subplot_titles=('Rectangular', 'Hanning', 'Blackman'))\n",
    "fig.add_trace(go.Scatter(x=n, y=v_rec, name='Rectangular'), row=1, col=1)\n",
    "fig.add_trace(go.Scatter(x=n, y=v_han, name='Hanning',), row=2, col=1)\n",
    "fig.add_trace(go.Scatter(x=n, y=v_blk, name='Blackman'), row=3, col=1)\n",
    "fig.update_yaxes(title_text='Amplitud', row=1, col=1)\n",
    "fig.update_yaxes(title_text='Amplitud', row=2, col=1)\n",
    "fig.update_yaxes(title_text='Amplitud', row=3, col=1)\n",
    "fig.update_xaxes(title_text='Tiempo [s]', row=3, col=1)\n",
    "fig.update_layout(\n",
    "    title='Ventanas',\n",
    "    showlegend=False\n",
    ")\n",
    "fig.show()"
   ]
  },
  {
   "cell_type": "markdown",
   "metadata": {},
   "source": [
    "Multiplicar ventanas por señal y graficar."
   ]
  },
  {
   "cell_type": "code",
   "execution_count": null,
   "metadata": {},
   "outputs": [],
   "source": [
    "xr = x * v_rec\n",
    "xh = x * v_han\n",
    "xb = x * v_blk"
   ]
  },
  {
   "cell_type": "code",
   "execution_count": null,
   "metadata": {},
   "outputs": [],
   "source": [
    "fig = make_subplots(\n",
    "    rows=3, cols=1,\n",
    "    subplot_titles=('Rectangular', 'Hanning', 'Blackman'))\n",
    "fig.add_trace(go.Scatter(x=n, y=xr, name='Rectangular'), row=1, col=1)\n",
    "fig.add_trace(go.Scatter(x=n, y=xh, name='Hanning',), row=2, col=1)\n",
    "fig.add_trace(go.Scatter(x=n, y=xb, name='Blackman'), row=3, col=1)\n",
    "fig.update_yaxes(title_text='Amplitud')\n",
    "fig.update_xaxes(title_text='Frecuencia [Hz]', row=3, col=1)\n",
    "fig.update_layout(\n",
    "    title='x[n]*v[n]',\n",
    "    showlegend=False\n",
    ")\n",
    "fig.show()"
   ]
  },
  {
   "cell_type": "markdown",
   "metadata": {},
   "source": [
    "Calcular y graficar transformadas $V[k]$ de las ventanas."
   ]
  },
  {
   "cell_type": "code",
   "execution_count": null,
   "metadata": {},
   "outputs": [],
   "source": [
    "V_rec = abs(fft(v_rec))\n",
    "V_han = abs(fft(v_han))\n",
    "V_blk = abs(fft(v_blk))\n",
    "\n",
    "V_rec_dB = 20*np.log10(V_rec)\n",
    "V_han_dB = 20*np.log10(V_han)\n",
    "V_blk_dB = 20*np.log10(V_blk)\n",
    "\n",
    "fig = go.Figure()\n",
    "fig.add_trace(go.Scatter(y=V_rec_dB, name='Rectangular'))\n",
    "fig.add_trace(go.Scatter(y=V_han_dB, name='Hanning'))\n",
    "fig.add_trace(go.Scatter(y=V_blk_dB, name='Blackman'))\n",
    "fig.update_layout(\n",
    "    title='Transformada ventanas dB (full view)',\n",
    "    xaxis_title='Frecuencia [Hz]',\n",
    "    yaxis_title='Magnitud')\n",
    "fig.show()"
   ]
  },
  {
   "cell_type": "markdown",
   "metadata": {},
   "source": [
    "Se puede observar que el lóbulo de la ventana Hanning es similar al de la ventana Blackman, es decir que la reducción del Leaking también lo será. Además, la ventana Hanning presenta menor atenuación.\n",
    "\n",
    "Como la transformada de la ventana rectangular es equivalente a la transformada de una constante, es decir un impulso, debido a que su longitud es igual a la de la señal, al realizar el pasaje en dB la transformada vale 0 dB para la muestra 0 y $-\\infty$ para el resto de las muestras. Por esta razon no se puede apreciar su gráfico."
   ]
  },
  {
   "cell_type": "markdown",
   "metadata": {},
   "source": [
    "Transformadas de $x[n]*v[n]$."
   ]
  },
  {
   "cell_type": "code",
   "execution_count": null,
   "metadata": {},
   "outputs": [],
   "source": [
    "X = abs(fft(x))\n",
    "Xr = abs(fft(xr))\n",
    "Xh = abs(fft(xh))\n",
    "Xb = abs(fft(xb))\n",
    "\n",
    "fig = go.Figure()\n",
    "fig.add_trace(go.Scatter(y=X, name='X'))\n",
    "fig.add_trace(go.Scatter(y=Xr, name='Rectangular'))\n",
    "fig.add_trace(go.Scatter(y=Xh, name='Hanning'))\n",
    "fig.add_trace(go.Scatter(y=Xb, name='Blackman'))\n",
    "fig.update_layout(\n",
    "    title='Transformada de x*v (full view)',\n",
    "    xaxis_title='Frecuencia [Hz]',\n",
    "    yaxis_title='Magnitud')\n",
    "fig.show()"
   ]
  },
  {
   "cell_type": "markdown",
   "metadata": {},
   "source": [
    "Vista cercana de las transformadas centrada en las frecuencias de interés."
   ]
  },
  {
   "cell_type": "code",
   "execution_count": null,
   "metadata": {},
   "outputs": [],
   "source": [
    "X = abs(fft(x))\n",
    "Xr = abs(fft(xr))\n",
    "Xh = abs(fft(xh))\n",
    "Xb = abs(fft(xb))\n",
    "\n",
    "X = X[9990:10021]\n",
    "Xr = Xr[9990:10021]\n",
    "Xh = Xh[9990:10021]\n",
    "Xb = Xb[9990:10021]\n",
    "k = np.arange(9990, 10021)\n",
    "\n",
    "fig = go.Figure()\n",
    "fig.add_trace(go.Scatter(x=k, y=X, mode='lines+markers', name='X'))\n",
    "fig.add_trace(go.Scatter(x=k, y=abs(Xr), mode='lines+markers', name='Rectangular'))\n",
    "fig.add_trace(go.Scatter(x=k, y=abs(Xh), mode='lines+markers', name='Hanning'))\n",
    "fig.add_trace(go.Scatter(x=k, y=abs(Xb), mode='lines+markers', name='Blackman'))\n",
    "fig.update_layout(\n",
    "    title='Transformada de x[n]*v[n] (close view)',\n",
    "    xaxis_title='Frecuencia [Hz]',\n",
    "    yaxis_title='Magnitud')\n",
    "fig.show()"
   ]
  },
  {
   "cell_type": "markdown",
   "metadata": {},
   "source": [
    "Para diferenciar las componentes de frecuencia 10000 Hz y 10008.37 Hz es conveniente elegir la ventanta rectangular ya que es la que menor ancho de lóbulo principal presenta."
   ]
  },
  {
   "cell_type": "markdown",
   "metadata": {},
   "source": [
    "Visualización en dB."
   ]
  },
  {
   "cell_type": "code",
   "execution_count": null,
   "metadata": {},
   "outputs": [],
   "source": [
    "X = abs(fft(x))\n",
    "Xr = abs(fft(xr))\n",
    "Xh = abs(fft(xh))\n",
    "Xb = abs(fft(xb))\n",
    "\n",
    "X = 20*np.log10(X/max(X))\n",
    "Xr = 20*np.log10(Xr/max(Xr))\n",
    "Xh = 20*np.log10(Xh/max(Xh))\n",
    "Xb = 20*np.log10(Xb/max(Xb))\n",
    "\n",
    "X = X[9990:10021]\n",
    "Xr = Xr[9990:10021]\n",
    "Xh = Xh[9990:10021]\n",
    "Xb = Xb[9990:10021]\n",
    "k = np.arange(9990, 10021)\n",
    "\n",
    "fig = go.Figure()\n",
    "fig.add_trace(go.Scatter(x=k, y=X, mode='lines+markers', name='X'))\n",
    "fig.add_trace(go.Scatter(x=k, y=Xr, mode='lines+markers', name='Rectangular'))\n",
    "fig.add_trace(go.Scatter(x=k, y=Xh, mode='lines+markers', name='Hanning'))\n",
    "fig.add_trace(go.Scatter(x=k, y=Xb, mode='lines+markers', name='Blackman'))\n",
    "fig.update_layout(\n",
    "    title='Transformada de x[n]*v[n] en dB (close view)',\n",
    "    xaxis_title='Frecuencia [Hz]',\n",
    "    yaxis_title='Magnitud [dB]')\n",
    "fig.show()"
   ]
  },
  {
   "cell_type": "code",
   "execution_count": null,
   "metadata": {},
   "outputs": [],
   "source": []
  }
 ],
 "metadata": {
  "kernelspec": {
   "display_name": "Python 3",
   "language": "python",
   "name": "python3"
  },
  "language_info": {
   "codemirror_mode": {
    "name": "ipython",
    "version": 3
   },
   "file_extension": ".py",
   "mimetype": "text/x-python",
   "name": "python",
   "nbconvert_exporter": "python",
   "pygments_lexer": "ipython3",
   "version": "3.7.3"
  }
 },
 "nbformat": 4,
 "nbformat_minor": 4
}
