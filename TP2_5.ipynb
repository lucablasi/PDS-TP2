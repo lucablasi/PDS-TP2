{
 "cells": [
  {
   "cell_type": "markdown",
   "metadata": {},
   "source": [
    "# PDS - TP2 Punto 5\n",
    "### Blasi - Reyes - Sosa Lüchter"
   ]
  },
  {
   "cell_type": "markdown",
   "metadata": {},
   "source": [
    "Imports"
   ]
  },
  {
   "cell_type": "code",
   "execution_count": null,
   "metadata": {},
   "outputs": [],
   "source": [
    "import numpy as np\n",
    "from numpy.fft import fft\n",
    "from numpy.fft import ifft\n",
    "import plotly.graph_objects as go\n",
    "from plotly.subplots import make_subplots"
   ]
  },
  {
   "cell_type": "markdown",
   "metadata": {},
   "source": [
    "Definir señal $x[n]$ y ventana de Blackman, $b[n]$."
   ]
  },
  {
   "cell_type": "code",
   "execution_count": null,
   "metadata": {},
   "outputs": [],
   "source": [
    "# Señal ruido\n",
    "N = 1000\n",
    "M = int(N * 0.01)\n",
    "x = np.random.normal(scale=1, size=N)\n",
    "\n",
    "# Blackman\n",
    "b = np.blackman(M)"
   ]
  },
  {
   "cell_type": "markdown",
   "metadata": {},
   "source": [
    "Graficar señal $x[n]$."
   ]
  },
  {
   "cell_type": "code",
   "execution_count": null,
   "metadata": {},
   "outputs": [],
   "source": [
    "fig = go.Figure()\n",
    "fig.add_trace(go.Scatter(y=x))\n",
    "fig.update_layout(\n",
    "    title='Señal x[n]',\n",
    "    xaxis_title='n',\n",
    "    yaxis_title='Amplitud')\n",
    "fig.show()"
   ]
  },
  {
   "cell_type": "markdown",
   "metadata": {},
   "source": [
    "Calcular $y[n]=x[n]*b[n]$ a traves de convolución lineal ($y_{1}[n]$), y DFT ($y_{2}[n]$)."
   ]
  },
  {
   "cell_type": "code",
   "execution_count": null,
   "metadata": {},
   "outputs": [],
   "source": [
    "# Convolución lineal\n",
    "y1 = np.convolve(x, b, mode='valid')\n",
    "\n",
    "# DFT\n",
    "z = np.zeros(len(x)-len(b))\n",
    "bz = np.concatenate((b, z))\n",
    "y2 = np.real(ifft(fft(x)*fft(bz)))\n",
    "y2 = y2[M-1:]\n",
    "\n",
    "# Normalizar\n",
    "x = x / max(abs(x))\n",
    "y1 = y1 / max(abs(y1))\n",
    "y2 = y2 / max(abs(y2))"
   ]
  },
  {
   "cell_type": "markdown",
   "metadata": {},
   "source": [
    "Graficar $y_{1}[n]$, $y_{2}[n]$."
   ]
  },
  {
   "cell_type": "code",
   "execution_count": null,
   "metadata": {},
   "outputs": [],
   "source": [
    "fig = go.Figure()\n",
    "fig.add_trace(go.Scatter(y=y1, name='y1[n]'))\n",
    "fig.add_trace(go.Scatter(y=y2, name='y2[n]'))\n",
    "fig.update_layout(\n",
    "    title='Señal y[n] = x[n]*b[n]',\n",
    "    xaxis_title='n',\n",
    "    yaxis_title='Amplitud')\n",
    "fig.show()"
   ]
  },
  {
   "cell_type": "markdown",
   "metadata": {},
   "source": [
    "Como se puede ver, las señales $y_{1}[n]$, $y_{2}[n]$ son iguales (haciendo click en las leyendas se pueden apagar/prender las señales individuales). Para realizar la convolución circular via DFT se requiere que ambas señales tengan el mismo largo. Para cumplirlo se agregaron ceros a la ventana de Blackman, $b[n]$. Luego de obtener $y_{2}[n]$, cuyo largo es $N$, se quitan los primeros $M-1$ términos de la señal para coincidir con el largo de $N-(M-1)$ resultante de la convolución lineal. En este caso se quitan los primeros $M-1$ términos ya que los ceros de relleno se agregaron a la cola de la ventana."
   ]
  },
  {
   "cell_type": "markdown",
   "metadata": {},
   "source": [
    "En caso de que se prefiera, también se grafican las señales por su cuenta."
   ]
  },
  {
   "cell_type": "code",
   "execution_count": null,
   "metadata": {},
   "outputs": [],
   "source": [
    "fig = make_subplots(\n",
    "    rows=3, cols=1,\n",
    "    subplot_titles=('x[n]', 'y1[n]', 'y2[n]'))\n",
    "fig.add_trace(go.Scatter(y=x, name='x[n]'), row=1, col=1)\n",
    "fig.add_trace(go.Scatter(y=y1, name='y1[n]'), row=2, col=1)\n",
    "fig.add_trace(go.Scatter(y=y2, name='y2[n]'), row=3, col=1)\n",
    "fig.update_xaxes(title='n', row=3, col=1)\n",
    "fig.update_yaxes(title='Amplitud')\n",
    "fig.update_layout(title='Señales', showlegend=False)\n",
    "fig.show()"
   ]
  }
 ],
 "metadata": {
  "kernelspec": {
   "display_name": "Python 3",
   "language": "python",
   "name": "python3"
  },
  "language_info": {
   "codemirror_mode": {
    "name": "ipython",
    "version": 3
   },
   "file_extension": ".py",
   "mimetype": "text/x-python",
   "name": "python",
   "nbconvert_exporter": "python",
   "pygments_lexer": "ipython3",
   "version": "3.7.3"
  }
 },
 "nbformat": 4,
 "nbformat_minor": 4
}
