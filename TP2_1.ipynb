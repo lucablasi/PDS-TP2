{
 "cells": [
  {
   "cell_type": "markdown",
   "metadata": {},
   "source": [
    "# PDS - TP2 Punto 1\n",
    "### Blasi - Reyes - Sosa Lüchter"
   ]
  },
  {
   "cell_type": "markdown",
   "metadata": {},
   "source": [
    "Imports"
   ]
  },
  {
   "cell_type": "code",
   "execution_count": null,
   "metadata": {},
   "outputs": [],
   "source": [
    "import numpy as np\n",
    "from numpy.fft import fft\n",
    "import plotly.graph_objects as go\n",
    "from plotly.subplots import make_subplots"
   ]
  },
  {
   "cell_type": "markdown",
   "metadata": {},
   "source": [
    "Definición señal $x[n]$."
   ]
  },
  {
   "cell_type": "code",
   "execution_count": null,
   "metadata": {},
   "outputs": [],
   "source": [
    "# Variable independiente 'n'\n",
    "N = 1  # Duración [s]\n",
    "fs = 44.1 * 10 ** 3  # Sample rate\n",
    "n = np.arange(0, N, 1 / fs)\n",
    "\n",
    "# Señal x1[n]\n",
    "x1 = np.array([2 for i in n])\n",
    "\n",
    "# Señal x2[n]\n",
    "f2 = 10 * 10 ** 3\n",
    "u2 = 0.2\n",
    "sigma2 = 0.05\n",
    "w2 = 2 * np.pi * f2\n",
    "sub_arg = -((n - u2) ** 2) / (2 * sigma2 ** 2)\n",
    "x2 = np.cos(w2 * n) * np.e ** sub_arg\n",
    "\n",
    "# Señal x3[n]\n",
    "f3 = 10.1 * 10 ** 3\n",
    "u3 = 0.7\n",
    "sigma3 = 0.07\n",
    "w3 = 2 * np.pi * f3\n",
    "sub_arg = -((n - u3) ** 2) / (2 * sigma3 ** 2)\n",
    "x3 = np.sin(w3 * n) * np.e ** sub_arg\n",
    "\n",
    "# Señal x[n]\n",
    "x = x1 + x2 + x3"
   ]
  },
  {
   "cell_type": "markdown",
   "metadata": {},
   "source": [
    "Graficamos la señal $x[n]$."
   ]
  },
  {
   "cell_type": "code",
   "execution_count": null,
   "metadata": {},
   "outputs": [],
   "source": [
    "fig1 = go.Figure()\n",
    "fig1.add_trace(go.Scatter(x=n, y=x))\n",
    "fig1.update_layout(\n",
    "    title='Señal x[n]',\n",
    "    xaxis_title='Tiempo [s]',\n",
    "    yaxis_title='Amplitud'\n",
    ")\n",
    "fig1.show()"
   ]
  },
  {
   "cell_type": "markdown",
   "metadata": {},
   "source": [
    "De la señal $x[n]$ calculamos su transformada de Fourier, $X[k]$, y graficamos su magnitud."
   ]
  },
  {
   "cell_type": "code",
   "execution_count": null,
   "metadata": {},
   "outputs": [],
   "source": [
    "X = fft(x)\n",
    "\n",
    "fig2 = go.Figure()\n",
    "fig2.add_trace(go.Scatter(y=abs(X)))\n",
    "fig2.update_layout(\n",
    "    title='Señal X[k]',\n",
    "    xaxis_title='Frecuencia [Hz]',\n",
    "    yaxis_title='|X[n]|'\n",
    ")\n",
    "fig2.show()"
   ]
  },
  {
   "cell_type": "markdown",
   "metadata": {},
   "source": [
    "$X[k]$ presenta un pico en 0 Hz, esto se debe a que la señal $x(n)$ tiene una media distinta de 0, ya que tiene una componente de continua de valor 2. Adicionalmente, se grafican tanto las frecuencias positivas como negativas de la señal. Para concentrarnos en las frecuencias de interés de ahora en más se toma solamente el intervalo de frecuencias positivas de la señal, es decir, [1: len(X)/2]. Además, se grafica la fase de la transformada junto a su magnitud."
   ]
  },
  {
   "cell_type": "code",
   "execution_count": null,
   "metadata": {
    "scrolled": false
   },
   "outputs": [],
   "source": [
    "X = X[1:int(len(X)/2)]\n",
    "Xf = np.arange(1, len(X))\n",
    "\n",
    "fig3 = make_subplots(\n",
    "    rows=2, cols=1,\n",
    "    subplot_titles=('Magnitud', 'Fase'))\n",
    "fig3.add_trace(go.Scatter(x=Xf, y=abs(X), name='|X[k]|'), row=1, col=1)\n",
    "fig3.update_yaxes(title_text='|X[k]|', row=1, col=1)\n",
    "fig3.add_trace(go.Scatter(x=Xf, y=np.angle(X), name='∠X[k]'), row=2, col=1)\n",
    "fig3.update_yaxes(title_text='∠X[k]', row=2, col=1)\n",
    "fig3.update_xaxes(title_text='Frecuencia [Hz]', row=2, col=1)\n",
    "fig3.update_layout(\n",
    "    title='Señal X[k]',\n",
    "    showlegend=False\n",
    ")\n",
    "fig3.show()\n"
   ]
  },
  {
   "cell_type": "markdown",
   "metadata": {},
   "source": [
    "Como se puede ver (el gráfico es interactivo, se sugiere mover el mouse sobre los puntos de interés) se presentan dos picos en la magnitud, uno en 10 kHz y otro en 10.1 kHz. Esto corresponde a las frecuencias de las dos señales $x_{2}[n]$ y $x_{3}[n]$ que componen a la señal $x[n]$."
   ]
  },
  {
   "cell_type": "markdown",
   "metadata": {},
   "source": [
    "Adicionalmente se grafica la magnitud en decibeles:"
   ]
  },
  {
   "cell_type": "code",
   "execution_count": null,
   "metadata": {},
   "outputs": [],
   "source": [
    "XdB = 20*np.log10(abs(X))\n",
    "\n",
    "fig4 = go.Figure()\n",
    "fig4.add_trace(go.Scatter(x=Xf, y=XdB))\n",
    "fig4.update_layout(\n",
    "    title='Señal X[k]',\n",
    "    xaxis_title='Frecuencia [Hz]',\n",
    "    yaxis_title='|X[k]| [dB]'\n",
    ")\n",
    "fig4.show()"
   ]
  }
 ],
 "metadata": {
  "kernelspec": {
   "display_name": "Python 3",
   "language": "python",
   "name": "python3"
  },
  "language_info": {
   "codemirror_mode": {
    "name": "ipython",
    "version": 3
   },
   "file_extension": ".py",
   "mimetype": "text/x-python",
   "name": "python",
   "nbconvert_exporter": "python",
   "pygments_lexer": "ipython3",
   "version": "3.7.3"
  }
 },
 "nbformat": 4,
 "nbformat_minor": 4
}
